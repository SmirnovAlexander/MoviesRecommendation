{
 "cells": [
  {
   "cell_type": "markdown",
   "metadata": {},
   "source": [
    "# Exploratory data analysis "
   ]
  },
  {
   "cell_type": "markdown",
   "metadata": {},
   "source": [
    "Firstly we will take a look on data."
   ]
  },
  {
   "cell_type": "code",
   "execution_count": 1,
   "metadata": {},
   "outputs": [],
   "source": [
    "import pandas as pd\n",
    "import matplotlib.pyplot as plt\n",
    "import seaborn as sns\n",
    "import numpy as np\n",
    "\n",
    "import itertools\n",
    "from itertools import islice\n",
    "from collections import Counter"
   ]
  },
  {
   "cell_type": "code",
   "execution_count": 2,
   "metadata": {},
   "outputs": [],
   "source": [
    "links = pd.read_csv(\"data/links.csv\")\n",
    "movies = pd.read_csv(\"data/movies.csv\")\n",
    "ratings = pd.read_csv(\"data/ratings.csv\")\n",
    "tags = pd.read_csv(\"data/tags.csv\")"
   ]
  },
  {
   "cell_type": "markdown",
   "metadata": {},
   "source": [
    "## Links"
   ]
  },
  {
   "cell_type": "markdown",
   "metadata": {},
   "source": [
    "Let's take a look on info from dataset README:\n",
    "\n",
    "---\n",
    "*Identifiers that can be used to link to other sources of movie data are contained in the file `links.csv`. Each line of this file after the header row represents one movie, and has the following format:*\n",
    "\n",
    "    movieId,imdbId,tmdbId\n",
    "\n",
    "- *movieId is an identifier for movies used by <https://movielens.org>. E.g., the movie Toy Story has the link <https://movielens.org/movies/1>.*\n",
    "\n",
    "- *imdbId is an identifier for movies used by <http://www.imdb.com>. E.g., the movie Toy Story has the link <http://www.imdb.com/title/tt0114709/>.*\n",
    "\n",
    "- *tmdbId is an identifier for movies used by <https://www.themoviedb.org>. E.g., the movie Toy Story has the link <https://www.themoviedb.org/movie/862>.*\n",
    "---"
   ]
  },
  {
   "cell_type": "code",
   "execution_count": 3,
   "metadata": {},
   "outputs": [
    {
     "data": {
      "text/html": [
       "<div>\n",
       "<style scoped>\n",
       "    .dataframe tbody tr th:only-of-type {\n",
       "        vertical-align: middle;\n",
       "    }\n",
       "\n",
       "    .dataframe tbody tr th {\n",
       "        vertical-align: top;\n",
       "    }\n",
       "\n",
       "    .dataframe thead th {\n",
       "        text-align: right;\n",
       "    }\n",
       "</style>\n",
       "<table border=\"1\" class=\"dataframe\">\n",
       "  <thead>\n",
       "    <tr style=\"text-align: right;\">\n",
       "      <th></th>\n",
       "      <th>movieId</th>\n",
       "      <th>imdbId</th>\n",
       "      <th>tmdbId</th>\n",
       "    </tr>\n",
       "  </thead>\n",
       "  <tbody>\n",
       "    <tr>\n",
       "      <th>0</th>\n",
       "      <td>1</td>\n",
       "      <td>114709</td>\n",
       "      <td>862.0</td>\n",
       "    </tr>\n",
       "    <tr>\n",
       "      <th>1</th>\n",
       "      <td>2</td>\n",
       "      <td>113497</td>\n",
       "      <td>8844.0</td>\n",
       "    </tr>\n",
       "    <tr>\n",
       "      <th>2</th>\n",
       "      <td>3</td>\n",
       "      <td>113228</td>\n",
       "      <td>15602.0</td>\n",
       "    </tr>\n",
       "    <tr>\n",
       "      <th>3</th>\n",
       "      <td>4</td>\n",
       "      <td>114885</td>\n",
       "      <td>31357.0</td>\n",
       "    </tr>\n",
       "    <tr>\n",
       "      <th>4</th>\n",
       "      <td>5</td>\n",
       "      <td>113041</td>\n",
       "      <td>11862.0</td>\n",
       "    </tr>\n",
       "    <tr>\n",
       "      <th>...</th>\n",
       "      <td>...</td>\n",
       "      <td>...</td>\n",
       "      <td>...</td>\n",
       "    </tr>\n",
       "    <tr>\n",
       "      <th>9737</th>\n",
       "      <td>193581</td>\n",
       "      <td>5476944</td>\n",
       "      <td>432131.0</td>\n",
       "    </tr>\n",
       "    <tr>\n",
       "      <th>9738</th>\n",
       "      <td>193583</td>\n",
       "      <td>5914996</td>\n",
       "      <td>445030.0</td>\n",
       "    </tr>\n",
       "    <tr>\n",
       "      <th>9739</th>\n",
       "      <td>193585</td>\n",
       "      <td>6397426</td>\n",
       "      <td>479308.0</td>\n",
       "    </tr>\n",
       "    <tr>\n",
       "      <th>9740</th>\n",
       "      <td>193587</td>\n",
       "      <td>8391976</td>\n",
       "      <td>483455.0</td>\n",
       "    </tr>\n",
       "    <tr>\n",
       "      <th>9741</th>\n",
       "      <td>193609</td>\n",
       "      <td>101726</td>\n",
       "      <td>37891.0</td>\n",
       "    </tr>\n",
       "  </tbody>\n",
       "</table>\n",
       "<p>9742 rows × 3 columns</p>\n",
       "</div>"
      ],
      "text/plain": [
       "      movieId   imdbId    tmdbId\n",
       "0           1   114709     862.0\n",
       "1           2   113497    8844.0\n",
       "2           3   113228   15602.0\n",
       "3           4   114885   31357.0\n",
       "4           5   113041   11862.0\n",
       "...       ...      ...       ...\n",
       "9737   193581  5476944  432131.0\n",
       "9738   193583  5914996  445030.0\n",
       "9739   193585  6397426  479308.0\n",
       "9740   193587  8391976  483455.0\n",
       "9741   193609   101726   37891.0\n",
       "\n",
       "[9742 rows x 3 columns]"
      ]
     },
     "metadata": {},
     "output_type": "display_data"
    }
   ],
   "source": [
    "display(links)"
   ]
  },
  {
   "cell_type": "markdown",
   "metadata": {},
   "source": [
    "Here we see table that contains movie id and it's id's on movie rates websites. \n",
    "\n",
    "Information from these websites may be useful, for example **movie rating** or **actors**."
   ]
  },
  {
   "cell_type": "code",
   "execution_count": 4,
   "metadata": {},
   "outputs": [
    {
     "name": "stdout",
     "output_type": "stream",
     "text": [
      "Number of movies: 9742\n"
     ]
    }
   ],
   "source": [
    "print(\"Number of movies: {}\".format(len(links[\"movieId\"].unique())))"
   ]
  },
  {
   "cell_type": "code",
   "execution_count": 5,
   "metadata": {},
   "outputs": [
    {
     "name": "stdout",
     "output_type": "stream",
     "text": [
      "Number of null values in movieId column: 0\n",
      "Number of null values in imdbId column: 0\n",
      "Number of null values in tmdbId column: 8\n"
     ]
    }
   ],
   "source": [
    "print(\"Number of null values in movieId column: {}\".format(\n",
    "    links[\"movieId\"].isnull().sum()))\n",
    "print(\"Number of null values in imdbId column: {}\".format(\n",
    "    links[\"imdbId\"].isnull().sum()))\n",
    "print(\"Number of null values in tmdbId column: {}\".format(\n",
    "    links[\"tmdbId\"].isnull().sum()))"
   ]
  },
  {
   "cell_type": "markdown",
   "metadata": {},
   "source": [
    "I went to [TMDb](https://www.themoviedb.org/) and [IMDb](https://www.imdb.com/) websites and hadn't found relevant information that doesn't exists on [movielens](https://movielens.org/).\n",
    "\n",
    "Also $8$ films does not have page on tmdb. \n",
    "\n",
    "So I think we may get rid of IMDb and TMDb columns and not be afraid of losing information, because in average due to number of votes movie rating will be relatively same."
   ]
  },
  {
   "cell_type": "code",
   "execution_count": 6,
   "metadata": {},
   "outputs": [
    {
     "name": "stdout",
     "output_type": "stream",
     "text": [
      "Number of movies: 9742\n"
     ]
    }
   ],
   "source": [
    "print(\"Number of movies: {}\".format(len(links[\"movieId\"].unique())))"
   ]
  },
  {
   "cell_type": "markdown",
   "metadata": {},
   "source": [
    "## Movies"
   ]
  },
  {
   "cell_type": "markdown",
   "metadata": {},
   "source": [
    "Info from README:\n",
    "\n",
    "---\n",
    "*Only movies with at least one rating or tag are included in the dataset. These movie ids are consistent with those used on the MovieLens web site (e.g., id `1` corresponds to the URL <https://movielens.org/movies/1>). Movie ids are consistent between `ratings.csv`, `tags.csv`, `movies.csv`, and `links.csv` (i.e., the same id refers to the same movie across these four data files).*\n",
    "\n",
    "---\n",
    "*Movie information is contained in the file `movies.csv`. Each line of this file after the header row represents one movie, and has the following format:*\n",
    "\n",
    "    movieId,title,genres\n",
    "\n",
    "*Movie titles are entered manually or imported from <https://www.themoviedb.org/>, and include the year of release in parentheses. Errors and inconsistencies may exist in these titles.*\n",
    "\n",
    "*Genres are a pipe-separated list, and are selected from the following:*\n",
    "\n",
    "* *Action*\n",
    "* *Adventure*\n",
    "* *Animation*\n",
    "* *Children*'s\n",
    "* *Comedy*\n",
    "* *Crime*\n",
    "* *Documentary*\n",
    "* *Drama*\n",
    "* *Fantasy*\n",
    "* *Film*-Noir\n",
    "* *Horror*\n",
    "* *Musical*\n",
    "* *Mystery*\n",
    "* *Romance*\n",
    "* *Sci*-Fi\n",
    "* *Thriller*\n",
    "* *War*\n",
    "* *Western*\n",
    "* *(no genres listed)*\n",
    "---"
   ]
  },
  {
   "cell_type": "code",
   "execution_count": 7,
   "metadata": {},
   "outputs": [
    {
     "data": {
      "text/html": [
       "<div>\n",
       "<style scoped>\n",
       "    .dataframe tbody tr th:only-of-type {\n",
       "        vertical-align: middle;\n",
       "    }\n",
       "\n",
       "    .dataframe tbody tr th {\n",
       "        vertical-align: top;\n",
       "    }\n",
       "\n",
       "    .dataframe thead th {\n",
       "        text-align: right;\n",
       "    }\n",
       "</style>\n",
       "<table border=\"1\" class=\"dataframe\">\n",
       "  <thead>\n",
       "    <tr style=\"text-align: right;\">\n",
       "      <th></th>\n",
       "      <th>movieId</th>\n",
       "      <th>title</th>\n",
       "      <th>genres</th>\n",
       "    </tr>\n",
       "  </thead>\n",
       "  <tbody>\n",
       "    <tr>\n",
       "      <th>0</th>\n",
       "      <td>1</td>\n",
       "      <td>Toy Story (1995)</td>\n",
       "      <td>Adventure|Animation|Children|Comedy|Fantasy</td>\n",
       "    </tr>\n",
       "    <tr>\n",
       "      <th>1</th>\n",
       "      <td>2</td>\n",
       "      <td>Jumanji (1995)</td>\n",
       "      <td>Adventure|Children|Fantasy</td>\n",
       "    </tr>\n",
       "    <tr>\n",
       "      <th>2</th>\n",
       "      <td>3</td>\n",
       "      <td>Grumpier Old Men (1995)</td>\n",
       "      <td>Comedy|Romance</td>\n",
       "    </tr>\n",
       "    <tr>\n",
       "      <th>3</th>\n",
       "      <td>4</td>\n",
       "      <td>Waiting to Exhale (1995)</td>\n",
       "      <td>Comedy|Drama|Romance</td>\n",
       "    </tr>\n",
       "    <tr>\n",
       "      <th>4</th>\n",
       "      <td>5</td>\n",
       "      <td>Father of the Bride Part II (1995)</td>\n",
       "      <td>Comedy</td>\n",
       "    </tr>\n",
       "    <tr>\n",
       "      <th>...</th>\n",
       "      <td>...</td>\n",
       "      <td>...</td>\n",
       "      <td>...</td>\n",
       "    </tr>\n",
       "    <tr>\n",
       "      <th>9737</th>\n",
       "      <td>193581</td>\n",
       "      <td>Black Butler: Book of the Atlantic (2017)</td>\n",
       "      <td>Action|Animation|Comedy|Fantasy</td>\n",
       "    </tr>\n",
       "    <tr>\n",
       "      <th>9738</th>\n",
       "      <td>193583</td>\n",
       "      <td>No Game No Life: Zero (2017)</td>\n",
       "      <td>Animation|Comedy|Fantasy</td>\n",
       "    </tr>\n",
       "    <tr>\n",
       "      <th>9739</th>\n",
       "      <td>193585</td>\n",
       "      <td>Flint (2017)</td>\n",
       "      <td>Drama</td>\n",
       "    </tr>\n",
       "    <tr>\n",
       "      <th>9740</th>\n",
       "      <td>193587</td>\n",
       "      <td>Bungo Stray Dogs: Dead Apple (2018)</td>\n",
       "      <td>Action|Animation</td>\n",
       "    </tr>\n",
       "    <tr>\n",
       "      <th>9741</th>\n",
       "      <td>193609</td>\n",
       "      <td>Andrew Dice Clay: Dice Rules (1991)</td>\n",
       "      <td>Comedy</td>\n",
       "    </tr>\n",
       "  </tbody>\n",
       "</table>\n",
       "<p>9742 rows × 3 columns</p>\n",
       "</div>"
      ],
      "text/plain": [
       "      movieId                                      title  \\\n",
       "0           1                           Toy Story (1995)   \n",
       "1           2                             Jumanji (1995)   \n",
       "2           3                    Grumpier Old Men (1995)   \n",
       "3           4                   Waiting to Exhale (1995)   \n",
       "4           5         Father of the Bride Part II (1995)   \n",
       "...       ...                                        ...   \n",
       "9737   193581  Black Butler: Book of the Atlantic (2017)   \n",
       "9738   193583               No Game No Life: Zero (2017)   \n",
       "9739   193585                               Flint (2017)   \n",
       "9740   193587        Bungo Stray Dogs: Dead Apple (2018)   \n",
       "9741   193609        Andrew Dice Clay: Dice Rules (1991)   \n",
       "\n",
       "                                           genres  \n",
       "0     Adventure|Animation|Children|Comedy|Fantasy  \n",
       "1                      Adventure|Children|Fantasy  \n",
       "2                                  Comedy|Romance  \n",
       "3                            Comedy|Drama|Romance  \n",
       "4                                          Comedy  \n",
       "...                                           ...  \n",
       "9737              Action|Animation|Comedy|Fantasy  \n",
       "9738                     Animation|Comedy|Fantasy  \n",
       "9739                                        Drama  \n",
       "9740                             Action|Animation  \n",
       "9741                                       Comedy  \n",
       "\n",
       "[9742 rows x 3 columns]"
      ]
     },
     "metadata": {},
     "output_type": "display_data"
    }
   ],
   "source": [
    "display(movies)"
   ]
  },
  {
   "cell_type": "code",
   "execution_count": 8,
   "metadata": {},
   "outputs": [
    {
     "name": "stdout",
     "output_type": "stream",
     "text": [
      "Number of null values in movieId column: 0\n",
      "Number of null values in title column: 0\n",
      "Number of null values in genres column: 0\n"
     ]
    }
   ],
   "source": [
    "print(\"Number of null values in movieId column: {}\".format(\n",
    "    movies[\"movieId\"].isnull().sum()))\n",
    "print(\"Number of null values in title column: {}\".format(\n",
    "    movies[\"title\"].isnull().sum()))\n",
    "print(\"Number of null values in genres column: {}\".format(\n",
    "    movies[\"genres\"].isnull().sum()))"
   ]
  },
  {
   "cell_type": "code",
   "execution_count": 9,
   "metadata": {},
   "outputs": [
    {
     "name": "stdout",
     "output_type": "stream",
     "text": [
      "Unique genres are:\n",
      "{'Western', 'Fantasy', 'Children', 'Mystery', 'IMAX', 'Thriller', 'Animation', 'Romance', '(no genres listed)', 'War', 'Crime', 'Film-Noir', 'Drama', 'Action', 'Musical', 'Horror', 'Comedy', 'Adventure', 'Documentary', 'Sci-Fi'}\n",
      "\n",
      "Number of unique genres:\n",
      "20\n",
      "\n",
      "Total number of genres:\n",
      "22084\n",
      "\n",
      "Average number of genres belongs to film:\n",
      "2.27\n",
      "\n",
      "Distribution of genres:\n",
      "{'Drama': 4361, 'Comedy': 3756, 'Thriller': 1894, 'Action': 1828, 'Romance': 1596, 'Adventure': 1263, 'Crime': 1199, 'Sci-Fi': 980, 'Horror': 978, 'Fantasy': 779, 'Children': 664, 'Animation': 611, 'Mystery': 573, 'Documentary': 440, 'War': 382, 'Musical': 334, 'Western': 167, 'IMAX': 158, 'Film-Noir': 87, '(no genres listed)': 34}\n",
      "\n"
     ]
    }
   ],
   "source": [
    "films_genres = [genres.split(\"|\") for genres in movies[\"genres\"]]\n",
    "\n",
    "all_genres = list(itertools.chain.from_iterable(films_genres))\n",
    "print(\"Unique genres are:\\n{}\\n\".format(set(all_genres)))\n",
    "print(\"Number of unique genres:\\n{}\\n\".format(len(set(all_genres))))\n",
    "print(\"Total number of genres:\\n{}\\n\".format(len(all_genres)))\n",
    "print(\"Average number of genres belongs to film:\\n{:.2f}\\n\".format(\n",
    "    len(all_genres) / movies.shape[0]))\n",
    "\n",
    "genres_distribution = {}\n",
    "for genre in set(all_genres):\n",
    "    occurrences = 0\n",
    "    for film_genres in films_genres:\n",
    "        if genre in film_genres:\n",
    "            occurrences += 1\n",
    "    genres_distribution[genre] = occurrences\n",
    "\n",
    "genres_distribution = {k: v for k, v in sorted(\n",
    "    genres_distribution.items(), key=lambda item: item[1], reverse=True)}\n",
    "print(\"Distribution of genres:\\n{}\\n\".format(genres_distribution))"
   ]
  },
  {
   "cell_type": "code",
   "execution_count": 10,
   "metadata": {},
   "outputs": [
    {
     "data": {
      "image/png": "[encoded data removed]",
      "text/plain": [
       "<Figure size 1152x864 with 1 Axes>"
      ]
     },
     "metadata": {
      "needs_background": "light"
     },
     "output_type": "display_data"
    }
   ],
   "source": [
    "plt.figure(figsize=(16, 12))\n",
    "sns.barplot(list(genres_distribution.keys()),\n",
    "            list(genres_distribution.values()))\n",
    "plt.xticks(rotation='45')\n",
    "plt.title('Genres distribution')\n",
    "plt.show()"
   ]
  },
  {
   "cell_type": "markdown",
   "metadata": {},
   "source": [
    "Film **genre** is very useful info in context of films suggestion task.\n",
    "\n",
    "I think later we will create a $20$-dimensional vector for each film with ones in places where film belongs to this genre."
   ]
  },
  {
   "cell_type": "code",
   "execution_count": 11,
   "metadata": {},
   "outputs": [
    {
     "name": "stdout",
     "output_type": "stream",
     "text": [
      "Unique last characters of film titles:\n",
      "{'1944', 'ron ', '1955', '1949', '1958', '1920', '1971', '1951', '1919', '012)', '1908', 'imal', '973)', '1922', '1929', '014)', '1902', '1976', 'lon ', '2012', '1968', '1943', '1987', '2015', 'irro', '2013', '1970', '1986', '1988', '2004', '1938', '1995', '1959', '2011', ' Bab', '1993', '1916', '1934', '2014', '1962', '1972', '1990', '1924', '1917', '008)', '011)', '1921', '1915', '1977', '998)', '1935', '2002', '1979', '1999', '1978', '1926', '1936', '1932', '1996', '2003', '1992', '1964', '1966', '1928', '1946', '1980', '1948', '1965', '2007', '1956', '1985', '2008', 'r On', '1952', '1994', '1953', '1984', '2016', '2000', '1983', '1939', '007)', '1903', '1998', '1942', '1950', '1975', '1973', '1925', '1981', 'he O', '2017', '1937', '1940', '1941', '1997', 'ligh', '1923', '999)', 'erso', '1982', '2010', 'osmo', '1957', '1989', '1930', '2018', 'atso', '2009', '1954', '995)', '1974', '2001', '1967', '1945', '1991', '2006', '2005', '1969', '1961', '1960', '1963', '1947', '1933', ' Roa', '1927', '1931'}\n",
      "\n"
     ]
    }
   ],
   "source": [
    "movies_titles = movies[\"title\"]\n",
    "last_characters = [movie[-5:-1] for movie in movies_titles]\n",
    "\n",
    "print(\"Unique last characters of film titles:\\n{}\\n\".format(set(last_characters)))"
   ]
  },
  {
   "cell_type": "markdown",
   "metadata": {},
   "source": [
    "As we can see, some films **don't have year** on their own, some films have **redundant space** at the end.\n",
    "\n",
    "We will remove redundant space at the end and add $0000$ year to films without year."
   ]
  },
  {
   "cell_type": "code",
   "execution_count": 12,
   "metadata": {
    "scrolled": false
   },
   "outputs": [
    {
     "name": "stdout",
     "output_type": "stream",
     "text": [
      "Years of film production:\n",
      "{0, 1902, 1903, 1908, 1915, 1916, 1917, 1919, 1920, 1921, 1922, 1923, 1924, 1925, 1926, 1927, 1928, 1929, 1930, 1931, 1932, 1933, 1934, 1935, 1936, 1937, 1938, 1939, 1940, 1941, 1942, 1943, 1944, 1945, 1946, 1947, 1948, 1949, 1950, 1951, 1952, 1953, 1954, 1955, 1956, 1957, 1958, 1959, 1960, 1961, 1962, 1963, 1964, 1965, 1966, 1967, 1968, 1969, 1970, 1971, 1972, 1973, 1974, 1975, 1976, 1977, 1978, 1979, 1980, 1981, 1982, 1983, 1984, 1985, 1986, 1987, 1988, 1989, 1990, 1991, 1992, 1993, 1994, 1995, 1996, 1997, 1998, 1999, 2000, 2001, 2002, 2003, 2004, 2005, 2006, 2007, 2008, 2009, 2010, 2011, 2012, 2013, 2014, 2015, 2016, 2017, 2018}\n",
      "\n",
      "Distribution of years:\n",
      "{0: 12, 1902: 1, 1903: 1, 1908: 1, 1915: 1, 1916: 4, 1917: 1, 1919: 1, 1920: 2, 1921: 1, 1922: 1, 1923: 4, 1924: 5, 1925: 4, 1926: 5, 1927: 7, 1928: 4, 1929: 4, 1930: 5, 1931: 14, 1932: 9, 1933: 12, 1934: 11, 1935: 13, 1936: 18, 1937: 16, 1938: 15, 1939: 23, 1940: 25, 1941: 18, 1942: 23, 1943: 10, 1944: 16, 1945: 17, 1946: 23, 1947: 20, 1948: 20, 1949: 25, 1950: 21, 1951: 22, 1952: 16, 1953: 30, 1954: 23, 1955: 36, 1956: 30, 1957: 33, 1958: 31, 1959: 37, 1960: 37, 1961: 34, 1962: 40, 1963: 39, 1964: 43, 1965: 47, 1966: 42, 1967: 42, 1968: 42, 1969: 35, 1970: 33, 1971: 47, 1972: 39, 1973: 59, 1974: 45, 1975: 42, 1976: 44, 1977: 63, 1978: 59, 1979: 69, 1980: 89, 1981: 92, 1982: 87, 1983: 83, 1984: 101, 1985: 126, 1986: 139, 1987: 153, 1988: 165, 1989: 142, 1990: 147, 1991: 147, 1992: 167, 1993: 198, 1994: 237, 1995: 259, 1996: 276, 1997: 260, 1998: 258, 1999: 263, 2000: 283, 2001: 294, 2002: 311, 2003: 279, 2004: 279, 2005: 273, 2006: 295, 2007: 285, 2008: 269, 2009: 282, 2010: 247, 2011: 254, 2012: 233, 2013: 239, 2014: 278, 2015: 274, 2016: 218, 2017: 147, 2018: 41}\n",
      "\n"
     ]
    }
   ],
   "source": [
    "movies_titles_without_reduntant_spaces = [\n",
    "    (lambda title: title[:-1] if title[-1] == \" \" else title)(title) for title in movies_titles]\n",
    "\n",
    "movies_titles_without_reduntant_spaces_with_years = [\n",
    "    (lambda title: title + \"(0000)\" if title[-1] != \")\" else title)(title) for title in movies_titles_without_reduntant_spaces]\n",
    "\n",
    "years = [int(movie[-5:-1])\n",
    "         for movie in movies_titles_without_reduntant_spaces_with_years]\n",
    "print(\"Years of film production:\\n{}\\n\".format(set(years)))\n",
    "\n",
    "years_distribution = dict(Counter(years))\n",
    "years_distribution = {k: v for k, v in sorted(\n",
    "    years_distribution.items(), key=lambda item: item[0], reverse=False)}\n",
    "print(\"Distribution of years:\\n{}\\n\".format(years_distribution))"
   ]
  },
  {
   "cell_type": "code",
   "execution_count": 13,
   "metadata": {},
   "outputs": [
    {
     "data": {
      "image/png": "[encoded data removed]",
      "text/plain": [
       "<Figure size 1152x864 with 1 Axes>"
      ]
     },
     "metadata": {
      "needs_background": "light"
     },
     "output_type": "display_data"
    }
   ],
   "source": [
    "plt.figure(figsize=(16, 12))\n",
    "sns.barplot(list(years_distribution.keys()),\n",
    "            list(years_distribution.values()))\n",
    "plt.xticks(rotation='90', fontsize=9)\n",
    "plt.title('Years distribution')\n",
    "plt.show()"
   ]
  },
  {
   "cell_type": "markdown",
   "metadata": {},
   "source": [
    "**Year** of film production might impact. We should search for **correlations** between average film rate, year of production and genre."
   ]
  },
  {
   "cell_type": "markdown",
   "metadata": {},
   "source": [
    "Also we should somehow use **film names**. But right now I have no ideas."
   ]
  },
  {
   "cell_type": "markdown",
   "metadata": {},
   "source": [
    "## Ratings"
   ]
  },
  {
   "cell_type": "markdown",
   "metadata": {},
   "source": [
    "README:\n",
    "\n",
    "---\n",
    "*Users were selected at random for inclusion. All selected users had rated at least 20 movies. No demographic information is included. Each user is represented by an id, and no other information is provided.*\n",
    "\n",
    "---\n",
    "\n",
    "*MovieLens users were selected at random for inclusion. Their ids have been anonymized. User ids are consistent between `ratings.csv` and `tags.csv` (i.e., the same id refers to the same user across the two files).*\n",
    "\n",
    "---\n",
    "\n",
    "*All ratings are contained in the file `ratings.csv`. Each line of this file after the header row represents one rating of one movie by one user, and has the following format:*\n",
    "\n",
    "    userId,movieId,rating,timestamp\n",
    "\n",
    "*The lines within this file are ordered first by userId, then, within user, by movieId.*\n",
    "\n",
    "*Ratings are made on a 5-star scale, with half-star increments (0.5 stars - 5.0 stars).*\n",
    "\n",
    "*Timestamps represent seconds since midnight Coordinated Universal Time (UTC) of January 1, 1970.*\n",
    "\n",
    "---"
   ]
  },
  {
   "cell_type": "code",
   "execution_count": 14,
   "metadata": {},
   "outputs": [
    {
     "data": {
      "text/html": [
       "<div>\n",
       "<style scoped>\n",
       "    .dataframe tbody tr th:only-of-type {\n",
       "        vertical-align: middle;\n",
       "    }\n",
       "\n",
       "    .dataframe tbody tr th {\n",
       "        vertical-align: top;\n",
       "    }\n",
       "\n",
       "    .dataframe thead th {\n",
       "        text-align: right;\n",
       "    }\n",
       "</style>\n",
       "<table border=\"1\" class=\"dataframe\">\n",
       "  <thead>\n",
       "    <tr style=\"text-align: right;\">\n",
       "      <th></th>\n",
       "      <th>userId</th>\n",
       "      <th>movieId</th>\n",
       "      <th>rating</th>\n",
       "      <th>timestamp</th>\n",
       "    </tr>\n",
       "  </thead>\n",
       "  <tbody>\n",
       "    <tr>\n",
       "      <th>0</th>\n",
       "      <td>1</td>\n",
       "      <td>1</td>\n",
       "      <td>4.0</td>\n",
       "      <td>964982703</td>\n",
       "    </tr>\n",
       "    <tr>\n",
       "      <th>1</th>\n",
       "      <td>1</td>\n",
       "      <td>3</td>\n",
       "      <td>4.0</td>\n",
       "      <td>964981247</td>\n",
       "    </tr>\n",
       "    <tr>\n",
       "      <th>2</th>\n",
       "      <td>1</td>\n",
       "      <td>6</td>\n",
       "      <td>4.0</td>\n",
       "      <td>964982224</td>\n",
       "    </tr>\n",
       "    <tr>\n",
       "      <th>3</th>\n",
       "      <td>1</td>\n",
       "      <td>47</td>\n",
       "      <td>5.0</td>\n",
       "      <td>964983815</td>\n",
       "    </tr>\n",
       "    <tr>\n",
       "      <th>4</th>\n",
       "      <td>1</td>\n",
       "      <td>50</td>\n",
       "      <td>5.0</td>\n",
       "      <td>964982931</td>\n",
       "    </tr>\n",
       "    <tr>\n",
       "      <th>...</th>\n",
       "      <td>...</td>\n",
       "      <td>...</td>\n",
       "      <td>...</td>\n",
       "      <td>...</td>\n",
       "    </tr>\n",
       "    <tr>\n",
       "      <th>100831</th>\n",
       "      <td>610</td>\n",
       "      <td>166534</td>\n",
       "      <td>4.0</td>\n",
       "      <td>1493848402</td>\n",
       "    </tr>\n",
       "    <tr>\n",
       "      <th>100832</th>\n",
       "      <td>610</td>\n",
       "      <td>168248</td>\n",
       "      <td>5.0</td>\n",
       "      <td>1493850091</td>\n",
       "    </tr>\n",
       "    <tr>\n",
       "      <th>100833</th>\n",
       "      <td>610</td>\n",
       "      <td>168250</td>\n",
       "      <td>5.0</td>\n",
       "      <td>1494273047</td>\n",
       "    </tr>\n",
       "    <tr>\n",
       "      <th>100834</th>\n",
       "      <td>610</td>\n",
       "      <td>168252</td>\n",
       "      <td>5.0</td>\n",
       "      <td>1493846352</td>\n",
       "    </tr>\n",
       "    <tr>\n",
       "      <th>100835</th>\n",
       "      <td>610</td>\n",
       "      <td>170875</td>\n",
       "      <td>3.0</td>\n",
       "      <td>1493846415</td>\n",
       "    </tr>\n",
       "  </tbody>\n",
       "</table>\n",
       "<p>100836 rows × 4 columns</p>\n",
       "</div>"
      ],
      "text/plain": [
       "        userId  movieId  rating   timestamp\n",
       "0            1        1     4.0   964982703\n",
       "1            1        3     4.0   964981247\n",
       "2            1        6     4.0   964982224\n",
       "3            1       47     5.0   964983815\n",
       "4            1       50     5.0   964982931\n",
       "...        ...      ...     ...         ...\n",
       "100831     610   166534     4.0  1493848402\n",
       "100832     610   168248     5.0  1493850091\n",
       "100833     610   168250     5.0  1494273047\n",
       "100834     610   168252     5.0  1493846352\n",
       "100835     610   170875     3.0  1493846415\n",
       "\n",
       "[100836 rows x 4 columns]"
      ]
     },
     "metadata": {},
     "output_type": "display_data"
    }
   ],
   "source": [
    "display(ratings)"
   ]
  },
  {
   "cell_type": "code",
   "execution_count": 15,
   "metadata": {},
   "outputs": [
    {
     "name": "stdout",
     "output_type": "stream",
     "text": [
      "Number of null values in userId column: 0\n",
      "Number of null values in movieId column: 0\n",
      "Number of null values in rating column: 0\n",
      "Number of null values in timestamp column: 0\n"
     ]
    }
   ],
   "source": [
    "print(\"Number of null values in userId column: {}\".format(\n",
    "    ratings[\"userId\"].isnull().sum()))\n",
    "print(\"Number of null values in movieId column: {}\".format(\n",
    "    ratings[\"movieId\"].isnull().sum()))\n",
    "print(\"Number of null values in rating column: {}\".format(\n",
    "    ratings[\"rating\"].isnull().sum()))\n",
    "print(\"Number of null values in timestamp column: {}\".format(\n",
    "    ratings[\"timestamp\"].isnull().sum()))"
   ]
  },
  {
   "cell_type": "markdown",
   "metadata": {},
   "source": [
    "### Users"
   ]
  },
  {
   "cell_type": "code",
   "execution_count": 16,
   "metadata": {
    "scrolled": false
   },
   "outputs": [
    {
     "name": "stdout",
     "output_type": "stream",
     "text": [
      "Number of unique users:\n",
      "610\n",
      "\n",
      "Min number of reviews per user:\n",
      "20\n",
      "\n",
      "Max number of reviews per user:\n",
      "2698\n",
      "\n",
      "Average reviews per user:\n",
      "165.30\n",
      "\n",
      "Users with top number of reviwed films:\n",
      "[(414, 2698), (599, 2478), (474, 2108), (448, 1864), (274, 1346)]\n",
      "\n"
     ]
    },
    {
     "data": {
      "image/png": "[encoded data removed]",
      "text/plain": [
       "<Figure size 1152x864 with 1 Axes>"
      ]
     },
     "metadata": {
      "needs_background": "light"
     },
     "output_type": "display_data"
    }
   ],
   "source": [
    "print(\"Number of unique users:\\n{}\\n\".format(\n",
    "    len(set(ratings[\"userId\"]))))\n",
    "\n",
    "user_reviews = dict(Counter(ratings[\"userId\"]))\n",
    "user_reviews = {k: v for k, v in sorted(\n",
    "    user_reviews.items(), key=lambda item: item[1], reverse=True)}\n",
    "\n",
    "print(\"Min number of reviews per user:\\n{}\\n\".format(min(list(user_reviews.values()))))\n",
    "print(\"Max number of reviews per user:\\n{}\\n\".format(max(list(user_reviews.values()))))\n",
    "\n",
    "print(\"Average reviews per user:\\n{:.2f}\\n\".format(len(ratings[\"userId\"]) / len(set(ratings[\"userId\"]))))\n",
    "\n",
    "print(\"Users with top number of reviwed films:\\n{}\\n\".format(list(islice(user_reviews.items(), 5))))\n",
    "\n",
    "plt.figure(figsize=(16,12))\n",
    "plt.hist(ratings[\"userId\"], bins=1000)\n",
    "plt.title(\"Reviews per user distribution\")\n",
    "plt.show()"
   ]
  },
  {
   "cell_type": "markdown",
   "metadata": {},
   "source": [
    "### Movies"
   ]
  },
  {
   "cell_type": "code",
   "execution_count": 17,
   "metadata": {},
   "outputs": [
    {
     "name": "stdout",
     "output_type": "stream",
     "text": [
      "Number of films:\n",
      "9724\n",
      "\n",
      "Min number of reviews of film:\n",
      "1\n",
      "\n",
      "Max number of reviews of film:\n",
      "329\n",
      "\n",
      "Average reviews per film:\n",
      "10.37\n",
      "\n",
      "Movies with top number of reviews:\n",
      "[(356, 329), (318, 317), (296, 307), (593, 279), (2571, 278)]\n",
      "\n"
     ]
    }
   ],
   "source": [
    "print(\"Number of films:\\n{}\\n\".format(len(set(ratings[\"movieId\"]))))\n",
    "\n",
    "movies_reviewed = dict(Counter(ratings[\"movieId\"]))\n",
    "movies_reviewed = {k: v for k, v in sorted(\n",
    "    movies_reviewed.items(), key=lambda item: item[1], reverse=True)}\n",
    "\n",
    "print(\"Min number of reviews of film:\\n{}\\n\".format(min(list(movies_reviewed.values()))))\n",
    "print(\"Max number of reviews of film:\\n{}\\n\".format(max(list(movies_reviewed.values()))))\n",
    "\n",
    "print(\"Average reviews per film:\\n{:.2f}\\n\".format(len(ratings[\"movieId\"]) / len(set(ratings[\"movieId\"]))))\n",
    "\n",
    "print(\"Movies with top number of reviews:\\n{}\\n\".format(list(islice(movies_reviewed.items(), 5))))"
   ]
  },
  {
   "cell_type": "markdown",
   "metadata": {},
   "source": [
    "**Not** every of $9742$ films have been **reviewed** at least once (number of reviwed films is $9724$). "
   ]
  },
  {
   "cell_type": "markdown",
   "metadata": {},
   "source": [
    "### Rating"
   ]
  },
  {
   "cell_type": "code",
   "execution_count": 18,
   "metadata": {},
   "outputs": [
    {
     "data": {
      "image/png": "[encoded data removed]",
      "text/plain": [
       "<Figure size 1152x864 with 1 Axes>"
      ]
     },
     "metadata": {
      "needs_background": "light"
     },
     "output_type": "display_data"
    }
   ],
   "source": [
    "plt.figure(figsize=(16,12))\n",
    "plt.hist(ratings[\"rating\"], bins=20)\n",
    "plt.title(\"Rating distribution\")\n",
    "plt.show()"
   ]
  },
  {
   "cell_type": "code",
   "execution_count": 19,
   "metadata": {},
   "outputs": [
    {
     "name": "stdout",
     "output_type": "stream",
     "text": [
      "Average rating:\n",
      "3.50\n",
      "\n",
      "Top rated movies:\n",
      "[(131724, 5.0), (5746, 5.0), (6835, 5.0), (3851, 5.0), (1151, 5.0)]\n",
      "\n",
      "Worst rated movies:\n",
      "[(136297, 0.5), (145724, 0.5), (61818, 0.5), (72424, 0.5), (145951, 0.5)]\n",
      "\n",
      "Movies in the middle:\n",
      "[(840, 3.375), (2970, 3.375), (6658, 3.375), (5222, 3.375), (1447, 3.375)]\n",
      "\n"
     ]
    }
   ],
   "source": [
    "print(\"Average rating:\\n{:.2f}\\n\".format(sum(ratings[\"rating\"]) / len(ratings[\"rating\"])))\n",
    "\n",
    "movies_ratings = {}\n",
    "unreviewed_movies = []\n",
    "movies_ids = movies[\"movieId\"]\n",
    "movies_reviewed_rate = ratings[\"movieId\"]\n",
    "ratings_marks = ratings[\"rating\"]\n",
    "\n",
    "\n",
    "for i, movie_id_reviewed in enumerate(movies_reviewed_rate):\n",
    "    if movie_id_reviewed in movies_ratings:\n",
    "        movies_ratings[movie_id_reviewed] = [movies_ratings[movie_id_reviewed][0] + ratings_marks[i], movies_ratings[movie_id_reviewed][1] + 1]\n",
    "    else:\n",
    "        movies_ratings[movie_id_reviewed] = [ratings_marks[i], 1]\n",
    "        \n",
    "\n",
    "movies_ratings = {k: v[0]/v[1] for k, v in movies_ratings.items()}\n",
    "movies_ratings = {k: v for k, v in sorted(movies_ratings.items(), key=lambda item: item[1], reverse=True)}\n",
    "\n",
    "print(\"Top rated movies:\\n{}\\n\".format(list(movies_ratings.items())[:5]))\n",
    "print(\"Worst rated movies:\\n{}\\n\".format(list(movies_ratings.items())[-5:]))\n",
    "print(\"Movies in the middle:\\n{}\\n\".format(list(movies_ratings.items())[5000:5005]))"
   ]
  },
  {
   "cell_type": "markdown",
   "metadata": {},
   "source": [
    "Top and worse rated movies do not have much reviews, but in average these rates are **representative**."
   ]
  },
  {
   "cell_type": "markdown",
   "metadata": {},
   "source": [
    "### Correlations"
   ]
  },
  {
   "cell_type": "code",
   "execution_count": 20,
   "metadata": {},
   "outputs": [],
   "source": [
    "movies_ids_initial = list(movies[\"movieId\"])\n",
    "\n",
    "movies_ratings = {k: v for k, v in sorted(movies_ratings.items(), key=lambda item: item[0], reverse=False)}\n",
    "movies_reviewed = {k: v for k, v in sorted(movies_reviewed.items(), key=lambda item: item[0], reverse=False)}\n",
    "\n",
    "movies_ids = list(movies_reviewed.keys())\n",
    "movies_ratings_final = list(movies_ratings.values())\n",
    "movies_reviewed_final = list(movies_reviewed.values())\n",
    "\n",
    "years_cutted = []\n",
    "for movie_id in movies_ids:\n",
    "    years_cutted.append(years[movies_ids_initial.index(movie_id)])"
   ]
  },
  {
   "cell_type": "code",
   "execution_count": 21,
   "metadata": {},
   "outputs": [
    {
     "data": {
      "text/html": [
       "<div>\n",
       "<style scoped>\n",
       "    .dataframe tbody tr th:only-of-type {\n",
       "        vertical-align: middle;\n",
       "    }\n",
       "\n",
       "    .dataframe tbody tr th {\n",
       "        vertical-align: top;\n",
       "    }\n",
       "\n",
       "    .dataframe thead th {\n",
       "        text-align: right;\n",
       "    }\n",
       "</style>\n",
       "<table border=\"1\" class=\"dataframe\">\n",
       "  <thead>\n",
       "    <tr style=\"text-align: right;\">\n",
       "      <th></th>\n",
       "      <th>movieId</th>\n",
       "      <th>reviewN</th>\n",
       "      <th>rating</th>\n",
       "      <th>year</th>\n",
       "    </tr>\n",
       "  </thead>\n",
       "  <tbody>\n",
       "    <tr>\n",
       "      <th>6662</th>\n",
       "      <td>57910</td>\n",
       "      <td>1</td>\n",
       "      <td>2.000000</td>\n",
       "      <td>2007</td>\n",
       "    </tr>\n",
       "    <tr>\n",
       "      <th>5895</th>\n",
       "      <td>33679</td>\n",
       "      <td>59</td>\n",
       "      <td>3.279661</td>\n",
       "      <td>2005</td>\n",
       "    </tr>\n",
       "    <tr>\n",
       "      <th>7040</th>\n",
       "      <td>69436</td>\n",
       "      <td>7</td>\n",
       "      <td>2.785714</td>\n",
       "      <td>2009</td>\n",
       "    </tr>\n",
       "    <tr>\n",
       "      <th>9067</th>\n",
       "      <td>143255</td>\n",
       "      <td>1</td>\n",
       "      <td>1.500000</td>\n",
       "      <td>2014</td>\n",
       "    </tr>\n",
       "    <tr>\n",
       "      <th>2758</th>\n",
       "      <td>3700</td>\n",
       "      <td>1</td>\n",
       "      <td>2.500000</td>\n",
       "      <td>1984</td>\n",
       "    </tr>\n",
       "    <tr>\n",
       "      <th>2338</th>\n",
       "      <td>3098</td>\n",
       "      <td>24</td>\n",
       "      <td>3.645833</td>\n",
       "      <td>1984</td>\n",
       "    </tr>\n",
       "    <tr>\n",
       "      <th>6428</th>\n",
       "      <td>51933</td>\n",
       "      <td>1</td>\n",
       "      <td>2.500000</td>\n",
       "      <td>2007</td>\n",
       "    </tr>\n",
       "    <tr>\n",
       "      <th>4318</th>\n",
       "      <td>6319</td>\n",
       "      <td>3</td>\n",
       "      <td>2.166667</td>\n",
       "      <td>1991</td>\n",
       "    </tr>\n",
       "    <tr>\n",
       "      <th>1957</th>\n",
       "      <td>2597</td>\n",
       "      <td>2</td>\n",
       "      <td>2.750000</td>\n",
       "      <td>1999</td>\n",
       "    </tr>\n",
       "    <tr>\n",
       "      <th>3105</th>\n",
       "      <td>4178</td>\n",
       "      <td>6</td>\n",
       "      <td>3.500000</td>\n",
       "      <td>1939</td>\n",
       "    </tr>\n",
       "  </tbody>\n",
       "</table>\n",
       "</div>"
      ],
      "text/plain": [
       "      movieId  reviewN    rating  year\n",
       "6662    57910        1  2.000000  2007\n",
       "5895    33679       59  3.279661  2005\n",
       "7040    69436        7  2.785714  2009\n",
       "9067   143255        1  1.500000  2014\n",
       "2758     3700        1  2.500000  1984\n",
       "2338     3098       24  3.645833  1984\n",
       "6428    51933        1  2.500000  2007\n",
       "4318     6319        3  2.166667  1991\n",
       "1957     2597        2  2.750000  1999\n",
       "3105     4178        6  3.500000  1939"
      ]
     },
     "metadata": {},
     "output_type": "display_data"
    }
   ],
   "source": [
    "movies_df = pd.DataFrame(list(zip(movies_ids, movies_reviewed_final, movies_ratings_final, years_cutted)), \n",
    "               columns =['movieId', 'reviewN', \"rating\", \"year\"]) \n",
    "display(movies_df.sample(10))"
   ]
  },
  {
   "cell_type": "code",
   "execution_count": 22,
   "metadata": {},
   "outputs": [
    {
     "data": {
      "text/plain": [
       "<matplotlib.axes._subplots.AxesSubplot at 0x7f089aa10fd0>"
      ]
     },
     "execution_count": 22,
     "metadata": {},
     "output_type": "execute_result"
    },
    {
     "data": {
      "image/png": "[encoded data removed]",
      "text/plain": [
       "<Figure size 432x288 with 2 Axes>"
      ]
     },
     "metadata": {
      "needs_background": "light"
     },
     "output_type": "display_data"
    }
   ],
   "source": [
    "corr = movies_df.corr()\n",
    "\n",
    "# plot the heatmap\n",
    "sns.heatmap(corr, \n",
    "        xticklabels=corr.columns,\n",
    "        yticklabels=corr.columns)"
   ]
  },
  {
   "cell_type": "code",
   "execution_count": null,
   "metadata": {},
   "outputs": [],
   "source": []
  },
  {
   "cell_type": "markdown",
   "metadata": {},
   "source": [
    "ToDo:\n",
    "- top film rewiewers\n",
    "- hist film reviwers\n",
    "- most common reviewed movies\n",
    "- average movie rating\n",
    "- top rated movies\n",
    "- correlation between movie num of rates/ rating / year / genre"
   ]
  },
  {
   "cell_type": "markdown",
   "metadata": {},
   "source": [
    "## Tags"
   ]
  },
  {
   "cell_type": "code",
   "execution_count": 23,
   "metadata": {},
   "outputs": [
    {
     "data": {
      "text/html": [
       "<div>\n",
       "<style scoped>\n",
       "    .dataframe tbody tr th:only-of-type {\n",
       "        vertical-align: middle;\n",
       "    }\n",
       "\n",
       "    .dataframe tbody tr th {\n",
       "        vertical-align: top;\n",
       "    }\n",
       "\n",
       "    .dataframe thead th {\n",
       "        text-align: right;\n",
       "    }\n",
       "</style>\n",
       "<table border=\"1\" class=\"dataframe\">\n",
       "  <thead>\n",
       "    <tr style=\"text-align: right;\">\n",
       "      <th></th>\n",
       "      <th>userId</th>\n",
       "      <th>movieId</th>\n",
       "      <th>tag</th>\n",
       "      <th>timestamp</th>\n",
       "    </tr>\n",
       "  </thead>\n",
       "  <tbody>\n",
       "    <tr>\n",
       "      <th>0</th>\n",
       "      <td>2</td>\n",
       "      <td>60756</td>\n",
       "      <td>funny</td>\n",
       "      <td>1445714994</td>\n",
       "    </tr>\n",
       "    <tr>\n",
       "      <th>1</th>\n",
       "      <td>2</td>\n",
       "      <td>60756</td>\n",
       "      <td>Highly quotable</td>\n",
       "      <td>1445714996</td>\n",
       "    </tr>\n",
       "    <tr>\n",
       "      <th>2</th>\n",
       "      <td>2</td>\n",
       "      <td>60756</td>\n",
       "      <td>will ferrell</td>\n",
       "      <td>1445714992</td>\n",
       "    </tr>\n",
       "    <tr>\n",
       "      <th>3</th>\n",
       "      <td>2</td>\n",
       "      <td>89774</td>\n",
       "      <td>Boxing story</td>\n",
       "      <td>1445715207</td>\n",
       "    </tr>\n",
       "    <tr>\n",
       "      <th>4</th>\n",
       "      <td>2</td>\n",
       "      <td>89774</td>\n",
       "      <td>MMA</td>\n",
       "      <td>1445715200</td>\n",
       "    </tr>\n",
       "    <tr>\n",
       "      <th>...</th>\n",
       "      <td>...</td>\n",
       "      <td>...</td>\n",
       "      <td>...</td>\n",
       "      <td>...</td>\n",
       "    </tr>\n",
       "    <tr>\n",
       "      <th>3678</th>\n",
       "      <td>606</td>\n",
       "      <td>7382</td>\n",
       "      <td>for katie</td>\n",
       "      <td>1171234019</td>\n",
       "    </tr>\n",
       "    <tr>\n",
       "      <th>3679</th>\n",
       "      <td>606</td>\n",
       "      <td>7936</td>\n",
       "      <td>austere</td>\n",
       "      <td>1173392334</td>\n",
       "    </tr>\n",
       "    <tr>\n",
       "      <th>3680</th>\n",
       "      <td>610</td>\n",
       "      <td>3265</td>\n",
       "      <td>gun fu</td>\n",
       "      <td>1493843984</td>\n",
       "    </tr>\n",
       "    <tr>\n",
       "      <th>3681</th>\n",
       "      <td>610</td>\n",
       "      <td>3265</td>\n",
       "      <td>heroic bloodshed</td>\n",
       "      <td>1493843978</td>\n",
       "    </tr>\n",
       "    <tr>\n",
       "      <th>3682</th>\n",
       "      <td>610</td>\n",
       "      <td>168248</td>\n",
       "      <td>Heroic Bloodshed</td>\n",
       "      <td>1493844270</td>\n",
       "    </tr>\n",
       "  </tbody>\n",
       "</table>\n",
       "<p>3683 rows × 4 columns</p>\n",
       "</div>"
      ],
      "text/plain": [
       "      userId  movieId               tag   timestamp\n",
       "0          2    60756             funny  1445714994\n",
       "1          2    60756   Highly quotable  1445714996\n",
       "2          2    60756      will ferrell  1445714992\n",
       "3          2    89774      Boxing story  1445715207\n",
       "4          2    89774               MMA  1445715200\n",
       "...      ...      ...               ...         ...\n",
       "3678     606     7382         for katie  1171234019\n",
       "3679     606     7936           austere  1173392334\n",
       "3680     610     3265            gun fu  1493843984\n",
       "3681     610     3265  heroic bloodshed  1493843978\n",
       "3682     610   168248  Heroic Bloodshed  1493844270\n",
       "\n",
       "[3683 rows x 4 columns]"
      ]
     },
     "metadata": {},
     "output_type": "display_data"
    }
   ],
   "source": [
    "display(tags)"
   ]
  },
  {
   "cell_type": "code",
   "execution_count": null,
   "metadata": {},
   "outputs": [],
   "source": []
  }
 ],
 "metadata": {
  "hide_input": false,
  "kernelspec": {
   "display_name": "Python 3",
   "language": "python",
   "name": "python3"
  },
  "language_info": {
   "codemirror_mode": {
    "name": "ipython",
    "version": 3
   },
   "file_extension": ".py",
   "mimetype": "text/x-python",
   "name": "python",
   "nbconvert_exporter": "python",
   "pygments_lexer": "ipython3",
   "version": "3.8.3"
  },
  "toc": {
   "base_numbering": 1,
   "nav_menu": {},
   "number_sections": true,
   "sideBar": true,
   "skip_h1_title": false,
   "title_cell": "Table of Contents",
   "title_sidebar": "Contents",
   "toc_cell": false,
   "toc_position": {},
   "toc_section_display": true,
   "toc_window_display": false
  }
 },
 "nbformat": 4,
 "nbformat_minor": 4
}
