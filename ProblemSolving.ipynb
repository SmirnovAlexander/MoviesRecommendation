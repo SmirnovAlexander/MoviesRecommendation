{
 "cells": [
  {
   "cell_type": "markdown",
   "metadata": {},
   "source": [
    "Recommendation system using movie rating dataset. Film names are taken into account. \n",
    "\n",
    "Top 10 recommendations for user with id $10$ are shown as an example of model usage."
   ]
  },
  {
   "cell_type": "markdown",
   "metadata": {},
   "source": [
    "# Investigation"
   ]
  },
  {
   "cell_type": "markdown",
   "metadata": {},
   "source": [
    "Firstly I investigate the field, starting from [Recommender system](https://en.wikipedia.org/wiki/Recommender_system) wikipedia page."
   ]
  },
  {
   "cell_type": "markdown",
   "metadata": {},
   "source": [
    "## Wikipedia:\n",
    "\n",
    "---\n",
    "### Intro\n",
    "A **recommendation system** is a subclass of information filtering system that seeks to **predict the \"rating\" or \"preference\"** a user would give to an item.\n",
    "\n",
    "Recommender systems usually make use of either or both **collaborative filtering** and **content-based filtering**. \n",
    "\n",
    "**Collaborative filtering** approaches build a **model from a user's past behavior** (items previously purchased or selected and/or numerical ratings given to those items) as well as **similar decisions made by other users**. This model is then used to predict items (or ratings for items) that the user may have an interest in. \n",
    "\n",
    "**Content-based filtering** approaches utilize a series of discrete, pre-tagged characteristics of an item in order to **recommend additional items with similar properties**. \n",
    "\n",
    "Current recommender systems typically **combine** one or more approaches into a **hybrid system**.\n",
    "\n",
    "The **differences** between collaborative and content-based filtering can be demonstrated by comparing two early music recommender systems – Last.fm and Pandora Radio.\n",
    "\n",
    "- Last.fm creates a \"station\" of recommended songs by observing what bands and individual tracks the **user has listened** to on a regular basis and **comparing** those against the **listening behavior of other users**. Last.fm will play tracks that do not appear in the user's library, but are often **played by other users with similar interests**. As this approach leverages the behavior of users, it is an example of a collaborative filtering technique.\n",
    "\n",
    "- Pandora uses the **properties of a song or artist** (a subset of the 400 attributes provided by the Music Genome Project) to seed a \"station\" that **plays music with similar properties**. **User feedback** is used to **refine** the station's results, **deemphasizing** certain **attributes** when a user \"dislikes\" a particular song and **emphasizing** other **attributes** when a user \"likes\" a song. This is an example of a content-based approach.\n",
    "\n",
    "In the above example, Last.fm requires a **large amount of information** about a user to make accurate recommendations. This is an example of the **cold start** problem, and is common in collaborative filtering systems.\n",
    "\n",
    "Whereas Pandora needs **very little information to start**, it is far more limited in scope (for example, it can only make recommendations that are similar to the original seed).\n",
    "\n",
    "### Collaborative filtering\n",
    "\n",
    "Collaborative filtering is based on the assumption that **people who agreed in the past will agree in the future**, and that they **will like similar kinds of items** as they liked in the past. The system generates recommendations using only information about rating profiles for different users or items. By locating peer users/items with a rating history similar to the current user or item, they **generate recommendations** using this **neighborhood**. Collaborative filtering methods are classified as **memory-based** and **model-based**. A well-known example of **memory-based** approaches is the [user-based algorithm](https://www.microsoft.com/en-us/research/wp-content/uploads/2016/02/tr-98-12.pdf), while that of **model-based** approaches is the [Kernel-Mapping Recommender](https://www.sciencedirect.com/science/article/pii/S0020025512002587).\n",
    "\n",
    "A key **advantage** of the collaborative filtering approach is that it does **not rely on machine analyzable content** and therefore it is capable of **accurately recommending complex items** such as movies **without requiring an \"understanding\"** of the item itself. Many algorithms have been used in **measuring user similarity** or item similarity in recommender systems. For example, the **k-nearest neighbor (k-NN)** approach and the **Pearson Correlation** as first implemented by Allen.\n",
    "\n",
    "When building a model from a user's behavior, a distinction is often made between **explicit** and **implicit** forms of **data collection**.\n",
    "\n",
    "Examples of **explicit** data collection include the following:\n",
    "\n",
    "- Asking a user to **rate an item** on a sliding scale.\n",
    "- Asking a user to **search**.\n",
    "- Asking a user to **rank** a collection of items from favorite to least favorite.\n",
    "- Presenting two items to a user and asking him/her to **choose the better one** of them.\n",
    "- Asking a user to create a **list of items** that he/she **likes** (see Rocchio classification or other similar techniques).\n",
    "\n",
    "Examples of **implicit** data collection include the following:\n",
    "\n",
    "- **Observing** the items that a **user views** in an online store.\n",
    "- Analyzing item/user **viewing times**.\n",
    "- Keeping a record of the items that a **user purchases** online.\n",
    "- Obtaining a list of items that a **user has listened to or watched** on his/her computer.\n",
    "- Analyzing the user's **social network** and **discovering** similar **likes** and **dislikes**.\n",
    "\n",
    "Collaborative filtering approaches often **suffer** from three problems: **cold start**, **scalability**, and **sparsity**.\n",
    "\n",
    "- Cold start: For a **new user** or item, there **isn't enough data** to make accurate recommendations.\n",
    "- Scalability: In many of the environments in which these systems make recommendations, there are **millions of users** and products. Thus, a large amount of **computation power** is often necessary to calculate recommendations.\n",
    "- Sparsity: The **number of items** sold on major e-commerce sites is **extremely large**. The most active users will only have **rated a small subset** of the overall database. Thus, even the most popular items have very few ratings.\n",
    "\n",
    "One of the most famous examples of collaborative filtering is **item-to-item** collaborative filtering (people who buy x also buy y), an algorithm popularized by [Amazon.com's recommender system](https://patentimages.storage.googleapis.com/41/80/fb/07d4d9e61e7431/US6266649.pdf).\n",
    "\n",
    "Collaborative filtering is still **used as part of hybrid systems**.\n",
    "\n",
    "### Content-based filtering\n",
    "\n",
    "Content-based filtering methods are based on a **description of the item** and a profile of the **user's preferences**. These methods are **best suited** to situations where there is **known data on an item** (name, location, description, etc.), but **not on the user**. Content-based recommenders treat recommendation as a **user-specific classification problem** and learn a classifier for the user's likes and dislikes based on an item's features.\n",
    "\n",
    "In this system, **keywords** are used to **describe the items** and a user profile is built to indicate the **type of item this user likes**. In other words, these algorithms try to **recommend items** that are **similar** to those that a **user liked** in the past, or is **examining in the present**. It does not rely on a user sign-in mechanism to generate this often temporary profile. In particular, various **candidate items** are **compared** with **items previously rated by the user** and the **best-matching items** are **recommended**. This approach has its roots in **information retrieval** and **information filtering** research.\n",
    "\n",
    "To create a **user profile**, the system mostly focuses on two **types of information**:\n",
    "\n",
    "1. A model of the **user's preference**.\n",
    "\n",
    "2. A history of the **user's interaction with the recommender system**.\n",
    "\n",
    "Basically, these methods use an **item profile** (i.e., a set of discrete attributes and features) characterizing the item within the system. To **abstract the features** of the items in the system, an **item presentation algorithm** is applied. A widely used algorithm is the **tf–idf representation** (also called vector space representation). The system creates a content-based profile of users based on a **weighted vector of item features**. The **weights denote** the **importance** of **each feature** **to the user** and can be **computed from** individually rated **content vectors** using a variety of techniques. Simple approaches use the **average values of the rated item vector** while other sophisticated methods use **machine learning techniques** such as Bayesian Classifiers, cluster analysis, decision trees, and artificial neural networks in order to **estimate the probability that the user is going to like the item**.\n",
    "\n",
    "A key issue with content-based filtering is whether the system is able to **learn user preferences from users' actions regarding one content source and use them across other content types**. When the system is limited to recommending content of the same type as the user is already using, the value from the recommendation system is significantly less than when other content types from other services can be recommended. For example, recommending news articles based on browsing of news is useful, but would be much more useful when music, videos, products, discussions etc. from different services can be recommended based on news browsing. To overcome this, **most content-based recommender systems** now **use** some form of **hybrid system**.\n",
    "\n",
    "Content-based recommender systems can also include **opinion-based recommender systems**. In some cases, users are allowed to **leave text review or feedback** on the items. These user-generated texts are implicit data for the recommender system because they are **potentially rich resource** of both feature/aspects of the item, and users' evaluation/sentiment to the item. **Features extracted** from the user-generated reviews are **improved meta-data of items**, because as they also **reflect aspects of the item** like meta-data, extracted features are widely concerned by the users. **Sentiments extracted** from the reviews **can be seen as users' rating scores** on the corresponding features. **Popular approaches** of opinion-based recommender system utilize various techniques including text mining, information retrieval, sentiment analysis (see also Multimodal sentiment analysis) and deep learning.\n",
    "\n",
    "### Hybrid recommender systems\n",
    "\n",
    "Most recommender systems now use a **hybrid approach**, combining collaborative filtering, content-based filtering, and other approaches . There is no reason why several different techniques of the same type could not be hybridized. Hybrid approaches can be implemented in several ways: by **making content-based and collaborative-based predictions separately and then combining them**; by **adding content-based capabilities to a collaborative-based approach (and vice versa)**; or by **unifying the approaches into one model** ([complete review of recommender systems](http://pages.stern.nyu.edu/~atuzhili/pdf/TKDE-Paper-as-Printed.pdf)). Several studies that empirically compare the performance of the hybrid with the pure collaborative and content-based methods and demonstrated that the **hybrid methods** can provide **more accurate** recommendations than pure approaches. These methods can also be used to **overcome** some of the common problems in recommender systems such as **cold start** and the **sparsity problem**, as well as the **knowledge engineering bottleneck** in knowledge-based approaches.\n",
    "\n",
    "**Netflix** is a good example of the use of hybrid recommender systems. The website makes recommendations by **comparing the watching and searching habits of similar users** (i.e., collaborative filtering) as well as by **offering movies that share characteristics** with films that a user has rated highly (content-based filtering).\n",
    "\n",
    "Some **hybridization techniques** include:\n",
    "\n",
    "- Weighted: **Combining the score** of different recommendation components numerically.\n",
    "- Switching: **Choosing** among recommendation components and applying the selected one.\n",
    "- Mixed: Recommendations from different recommenders are **presented together** to give the recommendation.\n",
    "- Feature Combination: **Features** derived from different knowledge sources are **combined** together and given to a single recommendation algorithm.\n",
    "- Feature Augmentation: Computing a **feature** or set of features, which is then **part of the input to the next technique**.\n",
    "- Cascade: Recommenders are given strict priority, with the lower priority ones breaking ties in the scoring of the higher ones.\n",
    "- Meta-level: **One recommendation technique** is applied and produces some sort of model, which is then the **input used by the next technique**.\n",
    "\n",
    "---"
   ]
  },
  {
   "cell_type": "markdown",
   "metadata": {},
   "source": [
    "## Summary"
   ]
  },
  {
   "cell_type": "markdown",
   "metadata": {},
   "source": [
    "There are two **main approaches** of building a recommendation system:\n",
    "\n",
    "- Collaborative filtering: based on matching user preferences with preferences of other users.\n",
    "    - Pluses: do not need to analyze content, recommend without understanding item;\n",
    "    - Problems: cold start, scalability, sparcsity.\n",
    "- Content-based filtering: based om matching user preferences with items descriptions (recommend similar items).\n",
    "    - Pluses: need little data about user to start;\n",
    "    - Problems: need understanding of recommended items.\n",
    "\n",
    "Most popular are **hybrid** solutions, which somehow combine these two.\n",
    "\n",
    "It is important to **collect data** about user because it is required in all approaches.\n",
    "There are two types of data collection:\n",
    "- explicit;\n",
    "- implicit.\n",
    "\n",
    "Explicit data collection might partly solve problem of **cold start**."
   ]
  },
  {
   "cell_type": "markdown",
   "metadata": {},
   "source": [
    "## Inference"
   ]
  },
  {
   "cell_type": "markdown",
   "metadata": {},
   "source": [
    "As we are doing **movie recommendation** and we should take **movie names** into account, solution will surely contain **content-based filtering**. But as we have **other users data**, **collaborative filtering** takes place.\n",
    "\n",
    "So our goal is to somehow **combine** these two methods in one **hybrid model**.\n",
    "\n",
    "Remarkable note is that **user tags** contains enormous amount of **information** about user preferences, so they surely should be used somehow.\n",
    "\n",
    "My thoughts about **representing user**:\n",
    "- ```number_of_movies```-dimensional **vector with film rating** where exists;\n",
    "- Using bag-of-word or same represent **user tags**, because they give a lot information as discovered from EDA.\n",
    "\n",
    "My thoughts about **representing movie** for content-based filtering:\n",
    "- Make a feature **vector of genre**;\n",
    "- Add **synonyms to genres** (because if we're using tags, common tags are such as \"funny\" are synonyms to genre \"comedy\");\n",
    "- Tokenize **film name** and **add synosyms** to all words to match tags like \"superhero\", \"phsycology\", \"aliens\" and stuff;\n",
    "- Make a **single** bag-of-word **vector** containing presense of all genres, film name and synonyms (that vector might be matched with user's tags vector);\n",
    "- Use information about **year** of film production;\n",
    "- Use information about **actors** (user might prefer one actor to another + match tags such as \"leonardo dicaprio\" and \"will ferrell\");\n",
    "- Use information about **movie creators** (user might prefer one creator to another + match tags such as \"disney\" and \"quentin tarantino\");\n",
    "\n",
    "So right now I am thinking about making **global dictionary** of all listed above and **match** what user have in his vector and film vector."
   ]
  },
  {
   "cell_type": "markdown",
   "metadata": {},
   "source": [
    "## Futher reading"
   ]
  },
  {
   "cell_type": "markdown",
   "metadata": {},
   "source": [
    "Now it's time to investigate **state-of-the-art** solutions."
   ]
  },
  {
   "cell_type": "code",
   "execution_count": null,
   "metadata": {},
   "outputs": [],
   "source": []
  },
  {
   "cell_type": "code",
   "execution_count": null,
   "metadata": {},
   "outputs": [],
   "source": []
  },
  {
   "cell_type": "code",
   "execution_count": null,
   "metadata": {},
   "outputs": [],
   "source": []
  },
  {
   "cell_type": "code",
   "execution_count": null,
   "metadata": {},
   "outputs": [],
   "source": []
  },
  {
   "cell_type": "markdown",
   "metadata": {},
   "source": [
    "# Solution requirements"
   ]
  },
  {
   "cell_type": "markdown",
   "metadata": {},
   "source": [
    "We should be concerned about **metrics** to check quality of our solution so it will be easy and representative.\n",
    "\n",
    "For example, for [movielens](https://movielens.org/) website metrics might be:\n",
    "- Success metrics:\n",
    "    - high rate from user for recommended film;\n",
    "    - number of sharing of recommended film.\n",
    "- Tracking metrics:\n",
    "    - daily visitors;\n",
    "    - time spend;\n",
    "    - daily new users;\n",
    "    - average new rates.\n",
    "\n",
    "We might use **A/B testing** for acquiring data.\n",
    "\n",
    "When loading page use new recommendation models for part of website visitors for a while and see how they will act now. Calculate success metrics before and after. Implement new models."
   ]
  }
 ],
 "metadata": {
  "hide_input": false,
  "kernelspec": {
   "display_name": "Python 3",
   "language": "python",
   "name": "python3"
  },
  "language_info": {
   "codemirror_mode": {
    "name": "ipython",
    "version": 3
   },
   "file_extension": ".py",
   "mimetype": "text/x-python",
   "name": "python",
   "nbconvert_exporter": "python",
   "pygments_lexer": "ipython3",
   "version": "3.8.3"
  },
  "toc": {
   "base_numbering": 1,
   "nav_menu": {},
   "number_sections": true,
   "sideBar": true,
   "skip_h1_title": false,
   "title_cell": "Table of Contents",
   "title_sidebar": "Contents",
   "toc_cell": false,
   "toc_position": {
    "height": "calc(100% - 180px)",
    "left": "10px",
    "top": "150px",
    "width": "304.473px"
   },
   "toc_section_display": true,
   "toc_window_display": true
  }
 },
 "nbformat": 4,
 "nbformat_minor": 4
}
